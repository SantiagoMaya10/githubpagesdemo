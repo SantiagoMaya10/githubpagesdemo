{
  "nbformat": 4,
  "nbformat_minor": 0,
  "metadata": {
    "colab": {
      "provenance": []
    },
    "kernelspec": {
      "name": "python3",
      "display_name": "Python 3"
    },
    "language_info": {
      "name": "python"
    }
  },
  "cells": [
    {
      "cell_type": "markdown",
      "source": [
        "## Conclusiones:\n",
        "\n",
        "### Ventajas método por gradiente:\n",
        "\n",
        "- Se puede observar que el método por gradiente es muy preciso, converge con un error de 1e-05, y es relativamente veloz. En el caso particular de Rastrigin, el punto inicial es de gran influencia en las soluciones que dé la optimización.\n",
        "\n",
        "### Desventajas método por gradiente:\n",
        "\n",
        "- El método por gradiente requiere una cantidad relativamente grande de iteraciones para poder converger. En este caso se usaron mil iteraciones, por lo cual se requiere una capacidad de cómputo capaz de correr el algoritmo.\n",
        "\n",
        "### Ventajas del algoritmo genético:\n",
        "\n",
        "- Las soluciones se encontraban mucho más rápidamente que con los otros métodos.\n",
        "\n",
        "### Desventajas del algoritmo genético:\n",
        "\n",
        "- En el caso particular de la función de Rosenbock, se nota que no es un algoritmo muy preciso, y el término \"convergencia\" sería inapropiado. Podríamos usar la palabra \"estimación\". El método estima soluciones de forma adecuada. Podría ser útil en un caso donde no se necesite mucha precisión.\n",
        "  \n",
        "- Para obtener soluciones precisas es necesario generar muchas generaciones. Sin embargo, a más generaciones, más se demora el algoritmo. Por eso solo se realizaron 2000 iteraciones, ya que se disponía de capacidad de cómputo limitada. Para Rastrigin, con 2000 iteraciones alcanzamos una solución de [ 0.00060295 , -0.00111727], lo cual es una solución no muy cercana a la real en [0,0], pero es lo suficientemente buena.\n",
        "\n",
        "### Ventajas del algoritmo de enjambre por partículas:\n",
        "\n",
        "- Este algoritmo es sorprendentemente preciso y además converge rápido. Para Rastrigin, con 100 iteraciones llegamos a un valor de [-0.00467024 -0.00494588], muy cercano al real [0,0].\n",
        "\n",
        "### Desventajas del algoritmo de enjambre por partículas:\n",
        "\n",
        "- Graficarlo supone un reto, por la cantidad de generaciones y grupos de partículas, requiere cierta capacidad de cómputo.\n"
      ],
      "metadata": {
        "id": "4TMRtVZ_lUvc"
      }
    }
  ]
}