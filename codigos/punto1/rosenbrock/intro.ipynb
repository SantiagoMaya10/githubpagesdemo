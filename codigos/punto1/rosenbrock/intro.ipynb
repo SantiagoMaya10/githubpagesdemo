{
  "nbformat": 4,
  "nbformat_minor": 0,
  "metadata": {
    "colab": {
      "provenance": []
    },
    "kernelspec": {
      "name": "python3",
      "display_name": "Python 3"
    },
    "language_info": {
      "name": "python"
    }
  },
  "cells": [
    {
      "cell_type": "markdown",
      "source": [
        "<< [Índice](../../../index.html)"
      ],
      "metadata": {
        "id": "afXb9C4XSj0q"
      }
    },
    {
      "cell_type": "markdown",
      "source": [
        "#**1. Elección de funciones de prueba:**\n",
        "\n",
        "Las funciones escogidas para realizar el reporte son:\n",
        "\n",
        "\n",
        "*   Función de Rosenbrock\n",
        "*   Función de Rastrigin\n"
      ],
      "metadata": {
        "id": "hJPJtSeD9ICp"
      }
    },
    {
      "cell_type": "markdown",
      "source": [
        "A continuación describiremos las funciones de Rastrigin y Rosenbrock en N dimensiones, 2 dimensiones y 3 dimensiones.\n",
        "\n",
        "Con dimensión se entiende el número de variables que recibe como entrada la función. Además es de resaltar que las funciones que se utlizan en el informe son de la forma $$ f : \\mathbb{R}^n \\rightarrow  \\mathbb{R} $$\n",
        "\n",
        "Esto es porque, como lo dice Goodfellow et al.: \"Para que el concepto de \"minimización\" tenga sentido tiene que haber solo una salida (escalar)\" (2016, p. 82)."
      ],
      "metadata": {
        "id": "vtb3tVfA9GTW"
      }
    },
    {
      "cell_type": "markdown",
      "source": [
        "\n",
        "A continuación se procede a ver la definición de las funciones escogidas y por qué son interesantes para analizar algoritmos de optimización, haciendo click en el nombre de cada función. También se pueden ver los diferentes métodos heurísticos utilizados:\n",
        "\n",
        "*   [Rosenbrock](./funcion-rosenbrock.html)\n",
        "\n",
        "    1.   [Descenso por gradiente](./gradiente-rosenbrock.html)\n",
        "    2.   [Algoritmo genético](./genetico-rosenbrock.html)\n",
        "    3.   [Optimización con enjambre de partículas](./particulas-rosenbrock.html)\n",
        "    4.   [Evolución diferencial](./diferencial-rosenbrock.html)\n",
        "    *    [Conclusiones para Rosenbrock](./conclusiones-rosenbrock.html)\n",
        "    \n",
        "*   [Rastrigin](./funcion-rastrigin.html)\n",
        "\n",
        "    1.   [Descenso por gradiente](./gradiente-rastrigin.html)\n",
        "    2.   [Algoritmo genético](./genetico-rastrigin.html)\n",
        "    3.   [Optimización con enjambre de partículas](./particulas-rastrigin.html)\n",
        "    4.   [Evolución diferencial](./diferencial-rastrigin.html)\n",
        "    *    [Conclusiones para Rastrigin](./conclusiones-rastrigin.html)\n",
        "\n",
        "\n",
        "\n",
        "\n",
        "\n",
        "\n",
        "\n"
      ],
      "metadata": {
        "id": "K278EFTzi5QQ"
      }
    },
    {
      "cell_type": "markdown",
      "source": [
        "<< [Índice](../../../index.html)"
      ],
      "metadata": {
        "id": "h7RD9uETSZ3t"
      }
    }
  ]
}